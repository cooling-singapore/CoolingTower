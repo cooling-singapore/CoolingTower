{
 "cells": [
  {
   "cell_type": "code",
   "execution_count": 34,
   "metadata": {},
   "outputs": [],
   "source": [
    "import pandas as pd\n",
    "from config import WEATHER_FILE, CT_CATALOG_FILE\n",
    "from scripts.coolingtowers import set_ambient, simulate_CT"
   ]
  },
  {
   "cell_type": "code",
   "execution_count": 35,
   "metadata": {},
   "outputs": [
    {
     "data": {
      "text/html": [
       "<div>\n",
       "<style scoped>\n",
       "    .dataframe tbody tr th:only-of-type {\n",
       "        vertical-align: middle;\n",
       "    }\n",
       "\n",
       "    .dataframe tbody tr th {\n",
       "        vertical-align: top;\n",
       "    }\n",
       "\n",
       "    .dataframe thead th {\n",
       "        text-align: right;\n",
       "    }\n",
       "</style>\n",
       "<table border=\"1\" class=\"dataframe\">\n",
       "  <thead>\n",
       "    <tr style=\"text-align: right;\">\n",
       "      <th></th>\n",
       "      <th>CT</th>\n",
       "      <th>Capacity [kW]</th>\n",
       "      <th>HWT [°C]</th>\n",
       "      <th>CWT °C]</th>\n",
       "      <th>WBT [C°]</th>\n",
       "      <th>approach [C°]</th>\n",
       "      <th>range [C°]</th>\n",
       "      <th>water flow [kg/s]</th>\n",
       "      <th>air flow [kg/s]</th>\n",
       "      <th>L/G</th>\n",
       "      <th>evap loss [%]</th>\n",
       "      <th>Fan diameter [m]</th>\n",
       "      <th>CT perf slope</th>\n",
       "      <th>CT perf y-int</th>\n",
       "      <th>Min Range [C°]</th>\n",
       "      <th>Max per unit water flow</th>\n",
       "      <th>Min per unit water flow</th>\n",
       "    </tr>\n",
       "  </thead>\n",
       "  <tbody>\n",
       "    <tr>\n",
       "      <th>0</th>\n",
       "      <td>100</td>\n",
       "      <td>100</td>\n",
       "      <td>38</td>\n",
       "      <td>32.8</td>\n",
       "      <td>29.73008</td>\n",
       "      <td>3.065992</td>\n",
       "      <td>5.2</td>\n",
       "      <td>4.59</td>\n",
       "      <td>2.27</td>\n",
       "      <td>2.02</td>\n",
       "      <td>0.78</td>\n",
       "      <td>0.9</td>\n",
       "      <td>0.65</td>\n",
       "      <td>13.5</td>\n",
       "      <td>NaN</td>\n",
       "      <td>NaN</td>\n",
       "      <td>NaN</td>\n",
       "    </tr>\n",
       "    <tr>\n",
       "      <th>1</th>\n",
       "      <td>150</td>\n",
       "      <td>150</td>\n",
       "      <td>38</td>\n",
       "      <td>32.8</td>\n",
       "      <td>29.73008</td>\n",
       "      <td>3.065992</td>\n",
       "      <td>5.2</td>\n",
       "      <td>6.89</td>\n",
       "      <td>3.41</td>\n",
       "      <td>2.02</td>\n",
       "      <td>0.78</td>\n",
       "      <td>0.9</td>\n",
       "      <td>0.65</td>\n",
       "      <td>13.5</td>\n",
       "      <td>NaN</td>\n",
       "      <td>NaN</td>\n",
       "      <td>NaN</td>\n",
       "    </tr>\n",
       "    <tr>\n",
       "      <th>2</th>\n",
       "      <td>200</td>\n",
       "      <td>200</td>\n",
       "      <td>38</td>\n",
       "      <td>32.8</td>\n",
       "      <td>29.73008</td>\n",
       "      <td>3.065992</td>\n",
       "      <td>5.2</td>\n",
       "      <td>9.19</td>\n",
       "      <td>4.55</td>\n",
       "      <td>2.02</td>\n",
       "      <td>0.78</td>\n",
       "      <td>1.2</td>\n",
       "      <td>0.65</td>\n",
       "      <td>13.5</td>\n",
       "      <td>NaN</td>\n",
       "      <td>NaN</td>\n",
       "      <td>NaN</td>\n",
       "    </tr>\n",
       "    <tr>\n",
       "      <th>3</th>\n",
       "      <td>300</td>\n",
       "      <td>300</td>\n",
       "      <td>38</td>\n",
       "      <td>32.8</td>\n",
       "      <td>29.73008</td>\n",
       "      <td>3.065992</td>\n",
       "      <td>5.2</td>\n",
       "      <td>13.79</td>\n",
       "      <td>6.83</td>\n",
       "      <td>2.02</td>\n",
       "      <td>0.78</td>\n",
       "      <td>1.2</td>\n",
       "      <td>0.65</td>\n",
       "      <td>13.5</td>\n",
       "      <td>NaN</td>\n",
       "      <td>NaN</td>\n",
       "      <td>NaN</td>\n",
       "    </tr>\n",
       "    <tr>\n",
       "      <th>4</th>\n",
       "      <td>400</td>\n",
       "      <td>400</td>\n",
       "      <td>38</td>\n",
       "      <td>32.8</td>\n",
       "      <td>29.73008</td>\n",
       "      <td>3.065992</td>\n",
       "      <td>5.2</td>\n",
       "      <td>18.38</td>\n",
       "      <td>9.10</td>\n",
       "      <td>2.02</td>\n",
       "      <td>0.78</td>\n",
       "      <td>1.6</td>\n",
       "      <td>0.65</td>\n",
       "      <td>13.5</td>\n",
       "      <td>NaN</td>\n",
       "      <td>NaN</td>\n",
       "      <td>NaN</td>\n",
       "    </tr>\n",
       "    <tr>\n",
       "      <th>5</th>\n",
       "      <td>500</td>\n",
       "      <td>500</td>\n",
       "      <td>38</td>\n",
       "      <td>32.8</td>\n",
       "      <td>29.73008</td>\n",
       "      <td>3.065992</td>\n",
       "      <td>5.2</td>\n",
       "      <td>22.98</td>\n",
       "      <td>11.38</td>\n",
       "      <td>2.02</td>\n",
       "      <td>0.78</td>\n",
       "      <td>1.6</td>\n",
       "      <td>0.65</td>\n",
       "      <td>13.5</td>\n",
       "      <td>NaN</td>\n",
       "      <td>NaN</td>\n",
       "      <td>NaN</td>\n",
       "    </tr>\n",
       "    <tr>\n",
       "      <th>6</th>\n",
       "      <td>800</td>\n",
       "      <td>800</td>\n",
       "      <td>38</td>\n",
       "      <td>32.8</td>\n",
       "      <td>29.73008</td>\n",
       "      <td>3.065992</td>\n",
       "      <td>5.2</td>\n",
       "      <td>36.77</td>\n",
       "      <td>18.22</td>\n",
       "      <td>2.02</td>\n",
       "      <td>0.78</td>\n",
       "      <td>2.2</td>\n",
       "      <td>0.65</td>\n",
       "      <td>13.5</td>\n",
       "      <td>NaN</td>\n",
       "      <td>NaN</td>\n",
       "      <td>NaN</td>\n",
       "    </tr>\n",
       "  </tbody>\n",
       "</table>\n",
       "</div>"
      ],
      "text/plain": [
       "    CT  Capacity [kW]  HWT [°C]  CWT °C]  WBT [C°]  approach [C°]  range [C°]  \\\n",
       "0  100            100        38     32.8  29.73008       3.065992         5.2   \n",
       "1  150            150        38     32.8  29.73008       3.065992         5.2   \n",
       "2  200            200        38     32.8  29.73008       3.065992         5.2   \n",
       "3  300            300        38     32.8  29.73008       3.065992         5.2   \n",
       "4  400            400        38     32.8  29.73008       3.065992         5.2   \n",
       "5  500            500        38     32.8  29.73008       3.065992         5.2   \n",
       "6  800            800        38     32.8  29.73008       3.065992         5.2   \n",
       "\n",
       "   water flow [kg/s]  air flow [kg/s]   L/G  evap loss [%]  Fan diameter [m]  \\\n",
       "0               4.59             2.27  2.02           0.78               0.9   \n",
       "1               6.89             3.41  2.02           0.78               0.9   \n",
       "2               9.19             4.55  2.02           0.78               1.2   \n",
       "3              13.79             6.83  2.02           0.78               1.2   \n",
       "4              18.38             9.10  2.02           0.78               1.6   \n",
       "5              22.98            11.38  2.02           0.78               1.6   \n",
       "6              36.77            18.22  2.02           0.78               2.2   \n",
       "\n",
       "   CT perf slope  CT perf y-int  Min Range [C°]  Max per unit water flow  \\\n",
       "0           0.65           13.5             NaN                      NaN   \n",
       "1           0.65           13.5             NaN                      NaN   \n",
       "2           0.65           13.5             NaN                      NaN   \n",
       "3           0.65           13.5             NaN                      NaN   \n",
       "4           0.65           13.5             NaN                      NaN   \n",
       "5           0.65           13.5             NaN                      NaN   \n",
       "6           0.65           13.5             NaN                      NaN   \n",
       "\n",
       "   Min per unit water flow  \n",
       "0                      NaN  \n",
       "1                      NaN  \n",
       "2                      NaN  \n",
       "3                      NaN  \n",
       "4                      NaN  \n",
       "5                      NaN  \n",
       "6                      NaN  "
      ]
     },
     "execution_count": 35,
     "metadata": {},
     "output_type": "execute_result"
    }
   ],
   "source": [
    "CT_design = pd.read_excel(CT_CATALOG_FILE, engine='openpyxl')\n",
    "CT_design"
   ]
  },
  {
   "cell_type": "code",
   "execution_count": 36,
   "metadata": {},
   "outputs": [],
   "source": [
    "weather = pd.read_excel(WEATHER_FILE, engine='openpyxl')\n",
    "Tamb = weather['Tamb [°C]'].values\n",
    "RH = weather['RH [-]'].values\n",
    "air_i, WBT = set_ambient(Tamb, RH)"
   ]
  },
  {
   "cell_type": "code",
   "execution_count": 37,
   "metadata": {},
   "outputs": [
    {
     "ename": "NameError",
     "evalue": "name 'Q_' is not defined",
     "traceback": [
      "\u001b[0;31m---------------------------------------------------------------------------\u001b[0m",
      "\u001b[0;31mNameError\u001b[0m                                 Traceback (most recent call last)",
      "\u001b[0;32m<ipython-input-37-84b4f2efa39b>\u001b[0m in \u001b[0;36m<module>\u001b[0;34m\u001b[0m\n\u001b[1;32m      1\u001b[0m \u001b[0;31m#set the heat load\u001b[0m\u001b[0;34m\u001b[0m\u001b[0;34m\u001b[0m\u001b[0;34m\u001b[0m\u001b[0m\n\u001b[1;32m      2\u001b[0m \u001b[0mHL_pu\u001b[0m \u001b[0;34m=\u001b[0m \u001b[0;36m1\u001b[0m\u001b[0;34m\u001b[0m\u001b[0;34m\u001b[0m\u001b[0m\n\u001b[0;32m----> 3\u001b[0;31m \u001b[0mCT_load\u001b[0m \u001b[0;34m=\u001b[0m \u001b[0mQ_\u001b[0m\u001b[0;34m(\u001b[0m\u001b[0mnp\u001b[0m\u001b[0;34m.\u001b[0m\u001b[0mtile\u001b[0m\u001b[0;34m(\u001b[0m\u001b[0mCT_design\u001b[0m\u001b[0;34m[\u001b[0m\u001b[0;34m'Capacity [kW]'\u001b[0m\u001b[0;34m]\u001b[0m\u001b[0;34m.\u001b[0m\u001b[0mvalues\u001b[0m\u001b[0;34m*\u001b[0m\u001b[0mHL_pu\u001b[0m\u001b[0;34m,\u001b[0m \u001b[0;34m(\u001b[0m\u001b[0mlen\u001b[0m\u001b[0;34m(\u001b[0m\u001b[0mair_i\u001b[0m\u001b[0;34m)\u001b[0m\u001b[0;34m,\u001b[0m\u001b[0;36m1\u001b[0m\u001b[0;34m)\u001b[0m\u001b[0;34m)\u001b[0m\u001b[0;34m,\u001b[0m \u001b[0;34m'kW'\u001b[0m\u001b[0;34m)\u001b[0m\u001b[0;34m\u001b[0m\u001b[0;34m\u001b[0m\u001b[0m\n\u001b[0m\u001b[1;32m      4\u001b[0m \u001b[0mCT_load\u001b[0m\u001b[0;34m\u001b[0m\u001b[0;34m\u001b[0m\u001b[0m\n",
      "\u001b[0;31mNameError\u001b[0m: name 'Q_' is not defined"
     ],
     "output_type": "error"
    }
   ],
   "source": [
    "#set the heat load\n",
    "HL_pu = 1\n",
    "CT_load = Q_(np.tile(CT_design['Capacity [kW]'].values*HL_pu, (len(air_i),1)), 'kW')\n",
    "CT_load"
   ]
  },
  {
   "cell_type": "code",
   "execution_count": 39,
   "metadata": {},
   "outputs": [
    {
     "ename": "NameError",
     "evalue": "name 'CT_load' is not defined",
     "traceback": [
      "\u001b[0;31m---------------------------------------------------------------------------\u001b[0m",
      "\u001b[0;31mNameError\u001b[0m                                 Traceback (most recent call last)",
      "\u001b[0;32m<ipython-input-39-18f88bcfc46e>\u001b[0m in \u001b[0;36m<module>\u001b[0;34m\u001b[0m\n\u001b[0;32m----> 1\u001b[0;31m \u001b[0mres\u001b[0m \u001b[0;34m=\u001b[0m \u001b[0msimulate_CT\u001b[0m\u001b[0;34m(\u001b[0m\u001b[0mCT_load\u001b[0m\u001b[0;34m,\u001b[0m \u001b[0mCT_design\u001b[0m\u001b[0;34m,\u001b[0m \u001b[0mair_i\u001b[0m\u001b[0;34m,\u001b[0m \u001b[0mpump_ctrl\u001b[0m\u001b[0;34m=\u001b[0m\u001b[0;34m'Range limit'\u001b[0m\u001b[0;34m,\u001b[0m \u001b[0mfan_ctrl\u001b[0m\u001b[0;34m=\u001b[0m\u001b[0;32mTrue\u001b[0m\u001b[0;34m)\u001b[0m\u001b[0;34m\u001b[0m\u001b[0;34m\u001b[0m\u001b[0m\n\u001b[0m\u001b[1;32m      2\u001b[0m \u001b[0mairflow\u001b[0m \u001b[0;34m=\u001b[0m \u001b[0mres\u001b[0m\u001b[0;34m[\u001b[0m\u001b[0;34m'air flow'\u001b[0m\u001b[0;34m]\u001b[0m\u001b[0;34m\u001b[0m\u001b[0;34m\u001b[0m\u001b[0m\n\u001b[1;32m      3\u001b[0m \u001b[0mwaterflow\u001b[0m \u001b[0;34m=\u001b[0m \u001b[0mres\u001b[0m\u001b[0;34m[\u001b[0m\u001b[0;34m'water flow'\u001b[0m\u001b[0;34m]\u001b[0m\u001b[0;34m\u001b[0m\u001b[0;34m\u001b[0m\u001b[0m\n\u001b[1;32m      4\u001b[0m \u001b[0mHWT\u001b[0m \u001b[0;34m=\u001b[0m \u001b[0mres\u001b[0m\u001b[0;34m[\u001b[0m\u001b[0;34m'HWT'\u001b[0m\u001b[0;34m]\u001b[0m\u001b[0;34m\u001b[0m\u001b[0;34m\u001b[0m\u001b[0m\n\u001b[1;32m      5\u001b[0m \u001b[0mret_waterflow\u001b[0m \u001b[0;34m=\u001b[0m \u001b[0mres\u001b[0m\u001b[0;34m[\u001b[0m\u001b[0;34m'return water flow'\u001b[0m\u001b[0;34m]\u001b[0m\u001b[0;34m\u001b[0m\u001b[0;34m\u001b[0m\u001b[0m\n",
      "\u001b[0;31mNameError\u001b[0m: name 'CT_load' is not defined"
     ],
     "output_type": "error"
    }
   ],
   "source": [
    "res = simulate_CT(CT_load, CT_design, air_i, pump_ctrl='Range limit', fan_ctrl=True)\n",
    "airflow = res['air flow']\n",
    "waterflow = res['water flow']\n",
    "HWT = res['HWT']\n",
    "ret_waterflow = res['return water flow']\n",
    "air_o = res['air_o']"
   ]
  },
  {
   "cell_type": "code",
   "execution_count": 40,
   "metadata": {},
   "outputs": [
    {
     "ename": "NameError",
     "evalue": "name 'air_o' is not defined",
     "traceback": [
      "\u001b[0;31m---------------------------------------------------------------------------\u001b[0m",
      "\u001b[0;31mNameError\u001b[0m                                 Traceback (most recent call last)",
      "\u001b[0;32m<ipython-input-40-8a17cd4edffd>\u001b[0m in \u001b[0;36m<module>\u001b[0;34m\u001b[0m\n\u001b[0;32m----> 1\u001b[0;31m \u001b[0mair_o\u001b[0m\u001b[0;34m\u001b[0m\u001b[0;34m\u001b[0m\u001b[0m\n\u001b[0m",
      "\u001b[0;31mNameError\u001b[0m: name 'air_o' is not defined"
     ],
     "output_type": "error"
    }
   ],
   "source": [
    "air_o"
   ]
  },
  {
   "cell_type": "code",
   "execution_count": 41,
   "metadata": {},
   "outputs": [
    {
     "ename": "NameError",
     "evalue": "name 'airflow' is not defined",
     "traceback": [
      "\u001b[0;31m---------------------------------------------------------------------------\u001b[0m",
      "\u001b[0;31mNameError\u001b[0m                                 Traceback (most recent call last)",
      "\u001b[0;32m<ipython-input-41-c16a601e8728>\u001b[0m in \u001b[0;36m<module>\u001b[0;34m\u001b[0m\n\u001b[0;32m----> 1\u001b[0;31m \u001b[0mairflow\u001b[0m\u001b[0;34m\u001b[0m\u001b[0;34m\u001b[0m\u001b[0m\n\u001b[0m",
      "\u001b[0;31mNameError\u001b[0m: name 'airflow' is not defined"
     ],
     "output_type": "error"
    }
   ],
   "source": [
    "airflow"
   ]
  },
  {
   "cell_type": "code",
   "execution_count": 42,
   "metadata": {},
   "outputs": [
    {
     "ename": "NameError",
     "evalue": "name 'waterflow' is not defined",
     "traceback": [
      "\u001b[0;31m---------------------------------------------------------------------------\u001b[0m",
      "\u001b[0;31mNameError\u001b[0m                                 Traceback (most recent call last)",
      "\u001b[0;32m<ipython-input-42-c1d1e3efc65f>\u001b[0m in \u001b[0;36m<module>\u001b[0;34m\u001b[0m\n\u001b[0;32m----> 1\u001b[0;31m \u001b[0mwaterflow\u001b[0m\u001b[0;34m\u001b[0m\u001b[0;34m\u001b[0m\u001b[0m\n\u001b[0m",
      "\u001b[0;31mNameError\u001b[0m: name 'waterflow' is not defined"
     ],
     "output_type": "error"
    }
   ],
   "source": [
    "waterflow"
   ]
  },
  {
   "cell_type": "code",
   "execution_count": null,
   "metadata": {},
   "outputs": [],
   "source": []
  }
 ],
 "metadata": {
  "kernelspec": {
   "display_name": "Python 3",
   "language": "python",
   "name": "python3"
  },
  "language_info": {
   "codemirror_mode": {
    "name": "ipython",
    "version": 3
   },
   "file_extension": ".py",
   "mimetype": "text/x-python",
   "name": "python",
   "nbconvert_exporter": "python",
   "pygments_lexer": "ipython3",
   "version": "3.6.12"
  }
 },
 "nbformat": 4,
 "nbformat_minor": 1
}
